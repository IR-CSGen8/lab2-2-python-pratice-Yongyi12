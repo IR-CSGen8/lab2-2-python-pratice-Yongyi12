{
 "cells": [
  {
   "cell_type": "markdown",
   "id": "534ec913",
   "metadata": {},
   "source": [
    "# Data Science Fundamentals and Importing Semi-Structured Data Lab\n",
    "\n",
    "**Description:**\n",
    "\n",
    "In this lab, you will explore fundamental data science concepts, including Python syntax, loops, list comprehensions, working with nested data structures (dictionaries and lists), and importing data from CSV files. You will also create a CSV file as part of the exercise.\n"
   ]
  },
  {
   "cell_type": "markdown",
   "id": "2dbb1c0c",
   "metadata": {},
   "source": [
    "# Part 1: Python Syntax and Basic Variables\n",
    "\n",
    "**1.1. Printing a Message**\n",
    "\n",
    "```python\n",
    "print(\"Task 1: Creating a List of Squares\")\n"
   ]
  },
  {
   "cell_type": "markdown",
   "id": "0e737f18",
   "metadata": {},
   "source": [
    "## 1. Generate a list of the squares of the first 10 positive integers using a list comprehension."
   ]
  },
  {
   "cell_type": "code",
   "execution_count": 4,
   "id": "294b0927",
   "metadata": {},
   "outputs": [
    {
     "name": "stdout",
     "output_type": "stream",
     "text": [
      "Task 1: Creating a List of Squares\n"
     ]
    }
   ],
   "source": [
    "print(\"Task 1: Creating a List of Squares\")"
   ]
  },
  {
   "cell_type": "code",
   "execution_count": 15,
   "id": "fa8e133a",
   "metadata": {},
   "outputs": [
    {
     "name": "stdout",
     "output_type": "stream",
     "text": [
      "[1, 4, 9, 16, 25, 36, 49, 64, 81, 100]\n"
     ]
    }
   ],
   "source": [
    "numbers = [1, 2, 3, 4, 5, 6, 7, 8, 9, 10]\n",
    "squares = [number ** 2 for number in numbers]\n",
    "print(squares)"
   ]
  },
  {
   "cell_type": "code",
   "execution_count": 16,
   "id": "5327357d",
   "metadata": {},
   "outputs": [
    {
     "name": "stdout",
     "output_type": "stream",
     "text": [
      "[1, 2, 3, 4, 5, 6, 7, 8, 9, 10, 11, 12, 13, 14, 15, 16, 17, 18, 19, 20]\n"
     ]
    }
   ],
   "source": [
    "#Now we create a list of the first 20 positive integers.\n",
    "numbers = list(range(1, 21))\n",
    "print(numbers)"
   ]
  },
  {
   "cell_type": "markdown",
   "id": "2ef1b9bc",
   "metadata": {},
   "source": [
    "## 2. Use a list comprehension to filter and create a new list containing only the even numbers from the list of numbers."
   ]
  },
  {
   "cell_type": "code",
   "execution_count": 17,
   "id": "b80619f1",
   "metadata": {},
   "outputs": [
    {
     "name": "stdout",
     "output_type": "stream",
     "text": [
      "[2, 4, 6, 8, 10, 12, 14, 16, 18, 20]\n"
     ]
    }
   ],
   "source": [
    "even_numbers = [number for number in numbers if number%2 == 0]\n",
    "print(even_numbers)"
   ]
  },
  {
   "cell_type": "markdown",
   "id": "65543e23",
   "metadata": {},
   "source": [
    "# Part 2: Nested Lists of Dictionaries (Semi-Structured Data)"
   ]
  },
  {
   "cell_type": "markdown",
   "id": "a2422b94",
   "metadata": {},
   "source": [
    "## You have been provided with a dataset that contains sales information for a small business. The dataset is represented as a list of dictionaries, where each dictionary represents a sales transaction with the following keys: \"date,\" \"product,\" \"quantity,\" and \"revenue.\""
   ]
  },
  {
   "cell_type": "code",
   "execution_count": 13,
   "id": "567dbd55",
   "metadata": {},
   "outputs": [
    {
     "data": {
      "text/plain": [
       "[{'date': '2023-01-01',\n",
       "  'product': 'Product A',\n",
       "  'quantity': 5,\n",
       "  'revenue': 100.0},\n",
       " {'date': '2023-01-01',\n",
       "  'product': 'Product B',\n",
       "  'quantity': 3,\n",
       "  'revenue': 60.0},\n",
       " {'date': '2023-01-02',\n",
       "  'product': 'Product A',\n",
       "  'quantity': 2,\n",
       "  'revenue': 40.0},\n",
       " {'date': '2023-01-02',\n",
       "  'product': 'Product C',\n",
       "  'quantity': 1,\n",
       "  'revenue': 25.0},\n",
       " {'date': '2023-01-03',\n",
       "  'product': 'Product B',\n",
       "  'quantity': 4,\n",
       "  'revenue': 80.0},\n",
       " {'date': '2023-01-03',\n",
       "  'product': 'Product C',\n",
       "  'quantity': 2,\n",
       "  'revenue': 40.0},\n",
       " {'date': '2023-01-04',\n",
       "  'product': 'Product A',\n",
       "  'quantity': 3,\n",
       "  'revenue': 60.0},\n",
       " {'date': '2023-01-04',\n",
       "  'product': 'Product B',\n",
       "  'quantity': 2,\n",
       "  'revenue': 40.0},\n",
       " {'date': '2023-01-05',\n",
       "  'product': 'Product A',\n",
       "  'quantity': 2,\n",
       "  'revenue': 40.0},\n",
       " {'date': '2023-01-05',\n",
       "  'product': 'Product C',\n",
       "  'quantity': 1,\n",
       "  'revenue': 20.0}]"
      ]
     },
     "execution_count": 13,
     "metadata": {},
     "output_type": "execute_result"
    }
   ],
   "source": [
    "sales_data = [\n",
    "    {\"date\": \"2023-01-01\", \"product\": \"Product A\", \"quantity\": 5, \"revenue\": 100.00},\n",
    "    {\"date\": \"2023-01-01\", \"product\": \"Product B\", \"quantity\": 3, \"revenue\": 60.00},\n",
    "    {\"date\": \"2023-01-02\", \"product\": \"Product A\", \"quantity\": 2, \"revenue\": 40.00},\n",
    "    {\"date\": \"2023-01-02\", \"product\": \"Product C\", \"quantity\": 1, \"revenue\": 25.00},\n",
    "    {\"date\": \"2023-01-03\", \"product\": \"Product B\", \"quantity\": 4, \"revenue\": 80.00},\n",
    "    {\"date\": \"2023-01-03\", \"product\": \"Product C\", \"quantity\": 2, \"revenue\": 40.00},\n",
    "    {\"date\": \"2023-01-04\", \"product\": \"Product A\", \"quantity\": 3, \"revenue\": 60.00},\n",
    "    {\"date\": \"2023-01-04\", \"product\": \"Product B\", \"quantity\": 2, \"revenue\": 40.00},\n",
    "    {\"date\": \"2023-01-05\", \"product\": \"Product A\", \"quantity\": 2, \"revenue\": 40.00},\n",
    "    {\"date\": \"2023-01-05\", \"product\": \"Product C\", \"quantity\": 1, \"revenue\": 20.00},\n",
    "]\n",
    "sales_data"
   ]
  },
  {
   "cell_type": "markdown",
   "id": "649df97f",
   "metadata": {},
   "source": [
    "## 3. Create a dictionary that summarizes the total quantity and revenue for each product across all transactions. The dictionary should have the product name as the key and a dictionary containing the total quantity and revenue as the value."
   ]
  },
  {
   "cell_type": "code",
   "execution_count": 42,
   "id": "829a5290",
   "metadata": {},
   "outputs": [
    {
     "name": "stdout",
     "output_type": "stream",
     "text": [
      "Product Summary:\n",
      "{'Product A': {'total_quantity': 12, 'total_revenue': 240.0}, 'Product B': {'total_quantity': 9, 'total_revenue': 180.0}, 'Product C': {'total_quantity': 4, 'total_revenue': 85.0}}\n",
      "\n"
     ]
    }
   ],
   "source": [
    "product_summary = {}\n",
    "\n",
    "# Solution \n",
    "for transaction in sales_data:\n",
    "    product = transaction[\"product\"]\n",
    "    quantity = transaction[\"quantity\"]\n",
    "    revenue = transaction[\"revenue\"]\n",
    "    \n",
    "    if product in product_summary:\n",
    "        product_summary[product][\"total_quantity\"] += quantity\n",
    "        product_summary[product][\"total_revenue\"] += revenue\n",
    "    else:\n",
    "        product_summary[product] = {\"total_quantity\": quantity, \"total_revenue\": revenue}\n",
    "\n",
    "print(\"Product Summary:\")\n",
    "print(product_summary)\n",
    "print()"
   ]
  },
  {
   "cell_type": "markdown",
   "id": "9f0df91c",
   "metadata": {},
   "source": [
    "## 4. Calculate the total revenue for each day."
   ]
  },
  {
   "cell_type": "code",
   "execution_count": 21,
   "id": "b1306a56",
   "metadata": {},
   "outputs": [
    {
     "name": "stdout",
     "output_type": "stream",
     "text": [
      "{'Product A': {'total_quantity': 12, 'total_revenue': 240.0}, 'Product B': {'total_quantity': 9, 'total_revenue': 180.0}, 'Product C': {'total_quantity': 4, 'total_revenue': 85.0}}\n"
     ]
    }
   ],
   "source": [
    "print (product_summary)"
   ]
  },
  {
   "cell_type": "code",
   "execution_count": 41,
   "id": "eedc42c6",
   "metadata": {},
   "outputs": [
    {
     "name": "stdout",
     "output_type": "stream",
     "text": [
      "Daily Revenue:\n",
      "{'2023-01-01': 160.0, '2023-01-02': 65.0, '2023-01-03': 120.0, '2023-01-04': 100.0, '2023-01-05': 60.0}\n",
      "\n"
     ]
    }
   ],
   "source": [
    "\n",
    "daily_revenue = {}\n",
    "\n",
    "for transaction in sales_data:\n",
    "    date = transaction[\"date\"]\n",
    "    revenue = transaction[\"revenue\"]\n",
    "    \n",
    "    if date in daily_revenue:\n",
    "        daily_revenue[date] += revenue\n",
    "    else:\n",
    "        daily_revenue[date] = revenue\n",
    "\n",
    "print(\"Daily Revenue:\")\n",
    "print(daily_revenue)\n",
    "print()\n"
   ]
  },
  {
   "cell_type": "markdown",
   "id": "e2bd0b04",
   "metadata": {},
   "source": [
    "## 5. Find the date with the highest and lowest total revenue."
   ]
  },
  {
   "cell_type": "code",
   "execution_count": 31,
   "id": "a0e46471",
   "metadata": {},
   "outputs": [
    {
     "name": "stdout",
     "output_type": "stream",
     "text": [
      "Date with Highest Total Revenue: 2023-01-01\n",
      "Date with Lowest Total Revenue: 2023-01-05\n",
      "\n"
     ]
    }
   ],
   "source": [
    "max_revenue_date = max(daily_revenue, key=daily_revenue.get)\n",
    "min_revenue_date = min(daily_revenue, key=daily_revenue.get)\n",
    "\n",
    "print(\"Date with Highest Total Revenue:\", max_revenue_date)\n",
    "print(\"Date with Lowest Total Revenue:\", min_revenue_date)\n",
    "print()"
   ]
  },
  {
   "cell_type": "markdown",
   "id": "c4623ba5",
   "metadata": {},
   "source": [
    "## 6. Create a new list of dictionaries that contains only the transactions for \"Product A.\""
   ]
  },
  {
   "cell_type": "code",
   "execution_count": 33,
   "id": "f51aa84a",
   "metadata": {},
   "outputs": [
    {
     "name": "stdout",
     "output_type": "stream",
     "text": [
      "Transactions for Product A:\n",
      "[{'date': '2023-01-01', 'product': 'Product A', 'quantity': 5, 'revenue': 100.0}, {'date': '2023-01-02', 'product': 'Product A', 'quantity': 2, 'revenue': 40.0}, {'date': '2023-01-04', 'product': 'Product A', 'quantity': 3, 'revenue': 60.0}, {'date': '2023-01-05', 'product': 'Product A', 'quantity': 2, 'revenue': 40.0}]\n",
      "\n"
     ]
    }
   ],
   "source": [
    "product_a_transactions = [transaction for transaction in sales_data if transaction[\"product\"] == \"Product A\"]\n",
    "print(\"Transactions for Product A:\")\n",
    "print(product_a_transactions)\n",
    "print()"
   ]
  },
  {
   "cell_type": "markdown",
   "id": "485c3b7b",
   "metadata": {},
   "source": [
    "## 7. Calculate the average revenue per transaction for \"Product B.\""
   ]
  },
  {
   "cell_type": "code",
   "execution_count": 39,
   "id": "afb993e8",
   "metadata": {},
   "outputs": [
    {
     "name": "stdout",
     "output_type": "stream",
     "text": [
      "Average Revenue per Transaction for Product B: 60.0\n",
      "\n"
     ]
    }
   ],
   "source": [
    "product_b_transactions = [transaction for transaction in sales_data if transaction[\"product\"] == \"Product B\"]\n",
    "total_revenue_product_b = sum(transaction[\"revenue\"] for transaction in product_b_transactions)\n",
    "average_revenue_per_transaction_product_b = total_revenue_product_b / len(product_b_transactions)\n",
    "\n",
    "print(\"Average Revenue per Transaction for Product B:\", average_revenue_per_transaction_product_b)\n",
    "print()"
   ]
  },
  {
   "cell_type": "markdown",
   "id": "8b17c9fe",
   "metadata": {},
   "source": [
    "## 8. Determine the most sold product (product with the highest total quantity)."
   ]
  },
  {
   "cell_type": "code",
   "execution_count": 46,
   "id": "819a9c5a",
   "metadata": {},
   "outputs": [
    {
     "name": "stdout",
     "output_type": "stream",
     "text": [
      "Most Sold Product: Product A\n",
      "\n"
     ]
    }
   ],
   "source": [
    "from collections import defaultdict\n",
    "\n",
    "product_quantity = defaultdict(int)\n",
    "\n",
    "for transaction in sales_data:\n",
    "    product = transaction[\"product\"]\n",
    "    quantity = transaction[\"quantity\"]\n",
    "    \n",
    "    product_quantity[product] += quantity\n",
    "\n",
    "# Find the most sold product based on total quantity\n",
    "most_sold_product = max(product_quantity, key=product_quantity.get)\n",
    "\n",
    "print(\"Most Sold Product:\", most_sold_product)\n",
    "print()\n"
   ]
  },
  {
   "cell_type": "markdown",
   "id": "9dda82dc",
   "metadata": {},
   "source": [
    "## 9. Calculate the total revenue for each product."
   ]
  },
  {
   "cell_type": "code",
   "execution_count": 57,
   "id": "54efb379",
   "metadata": {},
   "outputs": [
    {
     "name": "stdout",
     "output_type": "stream",
     "text": [
      "Total Revenue for Each Product:\n",
      "{'Product A': 240.0, 'Product B': 180.0, 'Product C': 85.0}\n",
      "\n"
     ]
    }
   ],
   "source": [
    "product_revenue = {}\n",
    "\n",
    "for transaction in sales_data:\n",
    "    product = transaction[\"product\"]\n",
    "    revenue = transaction[\"revenue\"]\n",
    "    \n",
    "    if product in product_revenue:\n",
    "        product_revenue[product] += revenue\n",
    "    else:\n",
    "        product_revenue[product] = revenue\n",
    "\n",
    "print(\"Total Revenue for Each Product:\")\n",
    "print(product_revenue)\n",
    "print()"
   ]
  },
  {
   "cell_type": "code",
   "execution_count": 3,
   "id": "f559c323",
   "metadata": {},
   "outputs": [
    {
     "ename": "FileNotFoundError",
     "evalue": "[Errno 2] No such file or directory: 'lab_2/semi_strut.csv'",
     "output_type": "error",
     "traceback": [
      "\u001b[1;31m---------------------------------------------------------------------------\u001b[0m",
      "\u001b[1;31mFileNotFoundError\u001b[0m                         Traceback (most recent call last)",
      "\u001b[1;32mc:\\Users\\MSI\\Documents\\GitHub\\lab2-2-python-pratice-Yongyi12\\Lab 2.2.ipynb Cell 25\u001b[0m line \u001b[0;36m6\n\u001b[0;32m      <a href='vscode-notebook-cell:/c%3A/Users/MSI/Documents/GitHub/lab2-2-python-pratice-Yongyi12/Lab%202.2.ipynb#X33sZmlsZQ%3D%3D?line=2'>3</a>\u001b[0m \u001b[39mimport\u001b[39;00m \u001b[39mjson\u001b[39;00m\n\u001b[0;32m      <a href='vscode-notebook-cell:/c%3A/Users/MSI/Documents/GitHub/lab2-2-python-pratice-Yongyi12/Lab%202.2.ipynb#X33sZmlsZQ%3D%3D?line=4'>5</a>\u001b[0m \u001b[39m# Load the CSV dataset\u001b[39;00m\n\u001b[1;32m----> <a href='vscode-notebook-cell:/c%3A/Users/MSI/Documents/GitHub/lab2-2-python-pratice-Yongyi12/Lab%202.2.ipynb#X33sZmlsZQ%3D%3D?line=5'>6</a>\u001b[0m df \u001b[39m=\u001b[39m pd\u001b[39m.\u001b[39mread_csv(\u001b[39m\"\u001b[39m\u001b[39mlab_2/semi_strut.csv\u001b[39m\u001b[39m\"\u001b[39m)\n",
      "File \u001b[1;32mc:\\Users\\MSI\\anaconda3\\Lib\\site-packages\\pandas\\util\\_decorators.py:211\u001b[0m, in \u001b[0;36mdeprecate_kwarg.<locals>._deprecate_kwarg.<locals>.wrapper\u001b[1;34m(*args, **kwargs)\u001b[0m\n\u001b[0;32m    209\u001b[0m     \u001b[39melse\u001b[39;00m:\n\u001b[0;32m    210\u001b[0m         kwargs[new_arg_name] \u001b[39m=\u001b[39m new_arg_value\n\u001b[1;32m--> 211\u001b[0m \u001b[39mreturn\u001b[39;00m func(\u001b[39m*\u001b[39margs, \u001b[39m*\u001b[39m\u001b[39m*\u001b[39mkwargs)\n",
      "File \u001b[1;32mc:\\Users\\MSI\\anaconda3\\Lib\\site-packages\\pandas\\util\\_decorators.py:331\u001b[0m, in \u001b[0;36mdeprecate_nonkeyword_arguments.<locals>.decorate.<locals>.wrapper\u001b[1;34m(*args, **kwargs)\u001b[0m\n\u001b[0;32m    325\u001b[0m \u001b[39mif\u001b[39;00m \u001b[39mlen\u001b[39m(args) \u001b[39m>\u001b[39m num_allow_args:\n\u001b[0;32m    326\u001b[0m     warnings\u001b[39m.\u001b[39mwarn(\n\u001b[0;32m    327\u001b[0m         msg\u001b[39m.\u001b[39mformat(arguments\u001b[39m=\u001b[39m_format_argument_list(allow_args)),\n\u001b[0;32m    328\u001b[0m         \u001b[39mFutureWarning\u001b[39;00m,\n\u001b[0;32m    329\u001b[0m         stacklevel\u001b[39m=\u001b[39mfind_stack_level(),\n\u001b[0;32m    330\u001b[0m     )\n\u001b[1;32m--> 331\u001b[0m \u001b[39mreturn\u001b[39;00m func(\u001b[39m*\u001b[39margs, \u001b[39m*\u001b[39m\u001b[39m*\u001b[39mkwargs)\n",
      "File \u001b[1;32mc:\\Users\\MSI\\anaconda3\\Lib\\site-packages\\pandas\\io\\parsers\\readers.py:950\u001b[0m, in \u001b[0;36mread_csv\u001b[1;34m(filepath_or_buffer, sep, delimiter, header, names, index_col, usecols, squeeze, prefix, mangle_dupe_cols, dtype, engine, converters, true_values, false_values, skipinitialspace, skiprows, skipfooter, nrows, na_values, keep_default_na, na_filter, verbose, skip_blank_lines, parse_dates, infer_datetime_format, keep_date_col, date_parser, dayfirst, cache_dates, iterator, chunksize, compression, thousands, decimal, lineterminator, quotechar, quoting, doublequote, escapechar, comment, encoding, encoding_errors, dialect, error_bad_lines, warn_bad_lines, on_bad_lines, delim_whitespace, low_memory, memory_map, float_precision, storage_options)\u001b[0m\n\u001b[0;32m    935\u001b[0m kwds_defaults \u001b[39m=\u001b[39m _refine_defaults_read(\n\u001b[0;32m    936\u001b[0m     dialect,\n\u001b[0;32m    937\u001b[0m     delimiter,\n\u001b[1;32m   (...)\u001b[0m\n\u001b[0;32m    946\u001b[0m     defaults\u001b[39m=\u001b[39m{\u001b[39m\"\u001b[39m\u001b[39mdelimiter\u001b[39m\u001b[39m\"\u001b[39m: \u001b[39m\"\u001b[39m\u001b[39m,\u001b[39m\u001b[39m\"\u001b[39m},\n\u001b[0;32m    947\u001b[0m )\n\u001b[0;32m    948\u001b[0m kwds\u001b[39m.\u001b[39mupdate(kwds_defaults)\n\u001b[1;32m--> 950\u001b[0m \u001b[39mreturn\u001b[39;00m _read(filepath_or_buffer, kwds)\n",
      "File \u001b[1;32mc:\\Users\\MSI\\anaconda3\\Lib\\site-packages\\pandas\\io\\parsers\\readers.py:605\u001b[0m, in \u001b[0;36m_read\u001b[1;34m(filepath_or_buffer, kwds)\u001b[0m\n\u001b[0;32m    602\u001b[0m _validate_names(kwds\u001b[39m.\u001b[39mget(\u001b[39m\"\u001b[39m\u001b[39mnames\u001b[39m\u001b[39m\"\u001b[39m, \u001b[39mNone\u001b[39;00m))\n\u001b[0;32m    604\u001b[0m \u001b[39m# Create the parser.\u001b[39;00m\n\u001b[1;32m--> 605\u001b[0m parser \u001b[39m=\u001b[39m TextFileReader(filepath_or_buffer, \u001b[39m*\u001b[39m\u001b[39m*\u001b[39mkwds)\n\u001b[0;32m    607\u001b[0m \u001b[39mif\u001b[39;00m chunksize \u001b[39mor\u001b[39;00m iterator:\n\u001b[0;32m    608\u001b[0m     \u001b[39mreturn\u001b[39;00m parser\n",
      "File \u001b[1;32mc:\\Users\\MSI\\anaconda3\\Lib\\site-packages\\pandas\\io\\parsers\\readers.py:1442\u001b[0m, in \u001b[0;36mTextFileReader.__init__\u001b[1;34m(self, f, engine, **kwds)\u001b[0m\n\u001b[0;32m   1439\u001b[0m     \u001b[39mself\u001b[39m\u001b[39m.\u001b[39moptions[\u001b[39m\"\u001b[39m\u001b[39mhas_index_names\u001b[39m\u001b[39m\"\u001b[39m] \u001b[39m=\u001b[39m kwds[\u001b[39m\"\u001b[39m\u001b[39mhas_index_names\u001b[39m\u001b[39m\"\u001b[39m]\n\u001b[0;32m   1441\u001b[0m \u001b[39mself\u001b[39m\u001b[39m.\u001b[39mhandles: IOHandles \u001b[39m|\u001b[39m \u001b[39mNone\u001b[39;00m \u001b[39m=\u001b[39m \u001b[39mNone\u001b[39;00m\n\u001b[1;32m-> 1442\u001b[0m \u001b[39mself\u001b[39m\u001b[39m.\u001b[39m_engine \u001b[39m=\u001b[39m \u001b[39mself\u001b[39m\u001b[39m.\u001b[39m_make_engine(f, \u001b[39mself\u001b[39m\u001b[39m.\u001b[39mengine)\n",
      "File \u001b[1;32mc:\\Users\\MSI\\anaconda3\\Lib\\site-packages\\pandas\\io\\parsers\\readers.py:1735\u001b[0m, in \u001b[0;36mTextFileReader._make_engine\u001b[1;34m(self, f, engine)\u001b[0m\n\u001b[0;32m   1733\u001b[0m     \u001b[39mif\u001b[39;00m \u001b[39m\"\u001b[39m\u001b[39mb\u001b[39m\u001b[39m\"\u001b[39m \u001b[39mnot\u001b[39;00m \u001b[39min\u001b[39;00m mode:\n\u001b[0;32m   1734\u001b[0m         mode \u001b[39m+\u001b[39m\u001b[39m=\u001b[39m \u001b[39m\"\u001b[39m\u001b[39mb\u001b[39m\u001b[39m\"\u001b[39m\n\u001b[1;32m-> 1735\u001b[0m \u001b[39mself\u001b[39m\u001b[39m.\u001b[39mhandles \u001b[39m=\u001b[39m get_handle(\n\u001b[0;32m   1736\u001b[0m     f,\n\u001b[0;32m   1737\u001b[0m     mode,\n\u001b[0;32m   1738\u001b[0m     encoding\u001b[39m=\u001b[39m\u001b[39mself\u001b[39m\u001b[39m.\u001b[39moptions\u001b[39m.\u001b[39mget(\u001b[39m\"\u001b[39m\u001b[39mencoding\u001b[39m\u001b[39m\"\u001b[39m, \u001b[39mNone\u001b[39;00m),\n\u001b[0;32m   1739\u001b[0m     compression\u001b[39m=\u001b[39m\u001b[39mself\u001b[39m\u001b[39m.\u001b[39moptions\u001b[39m.\u001b[39mget(\u001b[39m\"\u001b[39m\u001b[39mcompression\u001b[39m\u001b[39m\"\u001b[39m, \u001b[39mNone\u001b[39;00m),\n\u001b[0;32m   1740\u001b[0m     memory_map\u001b[39m=\u001b[39m\u001b[39mself\u001b[39m\u001b[39m.\u001b[39moptions\u001b[39m.\u001b[39mget(\u001b[39m\"\u001b[39m\u001b[39mmemory_map\u001b[39m\u001b[39m\"\u001b[39m, \u001b[39mFalse\u001b[39;00m),\n\u001b[0;32m   1741\u001b[0m     is_text\u001b[39m=\u001b[39mis_text,\n\u001b[0;32m   1742\u001b[0m     errors\u001b[39m=\u001b[39m\u001b[39mself\u001b[39m\u001b[39m.\u001b[39moptions\u001b[39m.\u001b[39mget(\u001b[39m\"\u001b[39m\u001b[39mencoding_errors\u001b[39m\u001b[39m\"\u001b[39m, \u001b[39m\"\u001b[39m\u001b[39mstrict\u001b[39m\u001b[39m\"\u001b[39m),\n\u001b[0;32m   1743\u001b[0m     storage_options\u001b[39m=\u001b[39m\u001b[39mself\u001b[39m\u001b[39m.\u001b[39moptions\u001b[39m.\u001b[39mget(\u001b[39m\"\u001b[39m\u001b[39mstorage_options\u001b[39m\u001b[39m\"\u001b[39m, \u001b[39mNone\u001b[39;00m),\n\u001b[0;32m   1744\u001b[0m )\n\u001b[0;32m   1745\u001b[0m \u001b[39massert\u001b[39;00m \u001b[39mself\u001b[39m\u001b[39m.\u001b[39mhandles \u001b[39mis\u001b[39;00m \u001b[39mnot\u001b[39;00m \u001b[39mNone\u001b[39;00m\n\u001b[0;32m   1746\u001b[0m f \u001b[39m=\u001b[39m \u001b[39mself\u001b[39m\u001b[39m.\u001b[39mhandles\u001b[39m.\u001b[39mhandle\n",
      "File \u001b[1;32mc:\\Users\\MSI\\anaconda3\\Lib\\site-packages\\pandas\\io\\common.py:856\u001b[0m, in \u001b[0;36mget_handle\u001b[1;34m(path_or_buf, mode, encoding, compression, memory_map, is_text, errors, storage_options)\u001b[0m\n\u001b[0;32m    851\u001b[0m \u001b[39melif\u001b[39;00m \u001b[39misinstance\u001b[39m(handle, \u001b[39mstr\u001b[39m):\n\u001b[0;32m    852\u001b[0m     \u001b[39m# Check whether the filename is to be opened in binary mode.\u001b[39;00m\n\u001b[0;32m    853\u001b[0m     \u001b[39m# Binary mode does not support 'encoding' and 'newline'.\u001b[39;00m\n\u001b[0;32m    854\u001b[0m     \u001b[39mif\u001b[39;00m ioargs\u001b[39m.\u001b[39mencoding \u001b[39mand\u001b[39;00m \u001b[39m\"\u001b[39m\u001b[39mb\u001b[39m\u001b[39m\"\u001b[39m \u001b[39mnot\u001b[39;00m \u001b[39min\u001b[39;00m ioargs\u001b[39m.\u001b[39mmode:\n\u001b[0;32m    855\u001b[0m         \u001b[39m# Encoding\u001b[39;00m\n\u001b[1;32m--> 856\u001b[0m         handle \u001b[39m=\u001b[39m \u001b[39mopen\u001b[39m(\n\u001b[0;32m    857\u001b[0m             handle,\n\u001b[0;32m    858\u001b[0m             ioargs\u001b[39m.\u001b[39mmode,\n\u001b[0;32m    859\u001b[0m             encoding\u001b[39m=\u001b[39mioargs\u001b[39m.\u001b[39mencoding,\n\u001b[0;32m    860\u001b[0m             errors\u001b[39m=\u001b[39merrors,\n\u001b[0;32m    861\u001b[0m             newline\u001b[39m=\u001b[39m\u001b[39m\"\u001b[39m\u001b[39m\"\u001b[39m,\n\u001b[0;32m    862\u001b[0m         )\n\u001b[0;32m    863\u001b[0m     \u001b[39melse\u001b[39;00m:\n\u001b[0;32m    864\u001b[0m         \u001b[39m# Binary mode\u001b[39;00m\n\u001b[0;32m    865\u001b[0m         handle \u001b[39m=\u001b[39m \u001b[39mopen\u001b[39m(handle, ioargs\u001b[39m.\u001b[39mmode)\n",
      "\u001b[1;31mFileNotFoundError\u001b[0m: [Errno 2] No such file or directory: 'lab_2/semi_strut.csv'"
     ]
    }
   ],
   "source": [
    "# Import necessary libraries\n",
    "import pandas as pd\n",
    "import json\n",
    "\n",
    "# Load the CSV dataset\n",
    "df = pd.read_csv(\"lab_2/semi_strut.csv\")"
   ]
  },
  {
   "cell_type": "code",
   "execution_count": 45,
   "id": "d740f9f8",
   "metadata": {},
   "outputs": [
    {
     "data": {
      "text/html": [
       "<div>\n",
       "<style scoped>\n",
       "    .dataframe tbody tr th:only-of-type {\n",
       "        vertical-align: middle;\n",
       "    }\n",
       "\n",
       "    .dataframe tbody tr th {\n",
       "        vertical-align: top;\n",
       "    }\n",
       "\n",
       "    .dataframe thead th {\n",
       "        text-align: right;\n",
       "    }\n",
       "</style>\n",
       "<table border=\"1\" class=\"dataframe\">\n",
       "  <thead>\n",
       "    <tr style=\"text-align: right;\">\n",
       "      <th></th>\n",
       "      <th>Document ID</th>\n",
       "      <th>Content</th>\n",
       "      <th>Terms</th>\n",
       "    </tr>\n",
       "  </thead>\n",
       "  <tbody>\n",
       "    <tr>\n",
       "      <th>0</th>\n",
       "      <td>1</td>\n",
       "      <td>{\\n   \"title\": \"Introduction to Python\",\\n   \"...</td>\n",
       "      <td>[]</td>\n",
       "    </tr>\n",
       "    <tr>\n",
       "      <th>1</th>\n",
       "      <td>2</td>\n",
       "      <td>{\\n   \"title\": \"Data Analysis with Pandas\",\\n ...</td>\n",
       "      <td>[]</td>\n",
       "    </tr>\n",
       "    <tr>\n",
       "      <th>2</th>\n",
       "      <td>3</td>\n",
       "      <td>{\\n   \"title\": \"Web Development with Flask\",\\n...</td>\n",
       "      <td>[]</td>\n",
       "    </tr>\n",
       "    <tr>\n",
       "      <th>3</th>\n",
       "      <td>4</td>\n",
       "      <td>{\\n   \"title\": \"Machine Learning with Scikit-L...</td>\n",
       "      <td>[]</td>\n",
       "    </tr>\n",
       "    <tr>\n",
       "      <th>4</th>\n",
       "      <td>5</td>\n",
       "      <td>{\\n   \"title\": \"Data Visualization with Matplo...</td>\n",
       "      <td>[]</td>\n",
       "    </tr>\n",
       "  </tbody>\n",
       "</table>\n",
       "</div>"
      ],
      "text/plain": [
       "   Document ID                                            Content Terms\n",
       "0            1  {\\n   \"title\": \"Introduction to Python\",\\n   \"...    []\n",
       "1            2  {\\n   \"title\": \"Data Analysis with Pandas\",\\n ...    []\n",
       "2            3  {\\n   \"title\": \"Web Development with Flask\",\\n...    []\n",
       "3            4  {\\n   \"title\": \"Machine Learning with Scikit-L...    []\n",
       "4            5  {\\n   \"title\": \"Data Visualization with Matplo...    []"
      ]
     },
     "execution_count": 45,
     "metadata": {},
     "output_type": "execute_result"
    }
   ],
   "source": [
    "#inspect data\n",
    "df.head()"
   ]
  },
  {
   "cell_type": "code",
   "execution_count": 50,
   "id": "eeed4e9c",
   "metadata": {},
   "outputs": [],
   "source": [
    "# Tokenization function to extract terms from the JSON-like content\n",
    "def json_loads(content):\n",
    "    content_dict = json.loads(content)\n",
    "    return content_dict\n",
    "# Apply function to df, save as JSON column\n",
    "df[\"diction\"] = df[\"Content\"].apply(json_loads)"
   ]
  },
  {
   "cell_type": "code",
   "execution_count": 51,
   "id": "b50fb6fd",
   "metadata": {},
   "outputs": [
    {
     "data": {
      "text/html": [
       "<div>\n",
       "<style scoped>\n",
       "    .dataframe tbody tr th:only-of-type {\n",
       "        vertical-align: middle;\n",
       "    }\n",
       "\n",
       "    .dataframe tbody tr th {\n",
       "        vertical-align: top;\n",
       "    }\n",
       "\n",
       "    .dataframe thead th {\n",
       "        text-align: right;\n",
       "    }\n",
       "</style>\n",
       "<table border=\"1\" class=\"dataframe\">\n",
       "  <thead>\n",
       "    <tr style=\"text-align: right;\">\n",
       "      <th></th>\n",
       "      <th>Document ID</th>\n",
       "      <th>Content</th>\n",
       "      <th>Terms</th>\n",
       "      <th>JSON</th>\n",
       "      <th>diction</th>\n",
       "    </tr>\n",
       "  </thead>\n",
       "  <tbody>\n",
       "    <tr>\n",
       "      <th>0</th>\n",
       "      <td>1</td>\n",
       "      <td>{\\n   \"title\": \"Introduction to Python\",\\n   \"...</td>\n",
       "      <td>[]</td>\n",
       "      <td>{'title': 'Introduction to Python', 'author': ...</td>\n",
       "      <td>{'title': 'Introduction to Python', 'author': ...</td>\n",
       "    </tr>\n",
       "    <tr>\n",
       "      <th>1</th>\n",
       "      <td>2</td>\n",
       "      <td>{\\n   \"title\": \"Data Analysis with Pandas\",\\n ...</td>\n",
       "      <td>[]</td>\n",
       "      <td>{'title': 'Data Analysis with Pandas', 'author...</td>\n",
       "      <td>{'title': 'Data Analysis with Pandas', 'author...</td>\n",
       "    </tr>\n",
       "    <tr>\n",
       "      <th>2</th>\n",
       "      <td>3</td>\n",
       "      <td>{\\n   \"title\": \"Web Development with Flask\",\\n...</td>\n",
       "      <td>[]</td>\n",
       "      <td>{'title': 'Web Development with Flask', 'autho...</td>\n",
       "      <td>{'title': 'Web Development with Flask', 'autho...</td>\n",
       "    </tr>\n",
       "    <tr>\n",
       "      <th>3</th>\n",
       "      <td>4</td>\n",
       "      <td>{\\n   \"title\": \"Machine Learning with Scikit-L...</td>\n",
       "      <td>[]</td>\n",
       "      <td>{'title': 'Machine Learning with Scikit-Learn'...</td>\n",
       "      <td>{'title': 'Machine Learning with Scikit-Learn'...</td>\n",
       "    </tr>\n",
       "    <tr>\n",
       "      <th>4</th>\n",
       "      <td>5</td>\n",
       "      <td>{\\n   \"title\": \"Data Visualization with Matplo...</td>\n",
       "      <td>[]</td>\n",
       "      <td>{'title': 'Data Visualization with Matplotlib'...</td>\n",
       "      <td>{'title': 'Data Visualization with Matplotlib'...</td>\n",
       "    </tr>\n",
       "  </tbody>\n",
       "</table>\n",
       "</div>"
      ],
      "text/plain": [
       "   Document ID                                            Content Terms  \\\n",
       "0            1  {\\n   \"title\": \"Introduction to Python\",\\n   \"...    []   \n",
       "1            2  {\\n   \"title\": \"Data Analysis with Pandas\",\\n ...    []   \n",
       "2            3  {\\n   \"title\": \"Web Development with Flask\",\\n...    []   \n",
       "3            4  {\\n   \"title\": \"Machine Learning with Scikit-L...    []   \n",
       "4            5  {\\n   \"title\": \"Data Visualization with Matplo...    []   \n",
       "\n",
       "                                                JSON  \\\n",
       "0  {'title': 'Introduction to Python', 'author': ...   \n",
       "1  {'title': 'Data Analysis with Pandas', 'author...   \n",
       "2  {'title': 'Web Development with Flask', 'autho...   \n",
       "3  {'title': 'Machine Learning with Scikit-Learn'...   \n",
       "4  {'title': 'Data Visualization with Matplotlib'...   \n",
       "\n",
       "                                             diction  \n",
       "0  {'title': 'Introduction to Python', 'author': ...  \n",
       "1  {'title': 'Data Analysis with Pandas', 'author...  \n",
       "2  {'title': 'Web Development with Flask', 'autho...  \n",
       "3  {'title': 'Machine Learning with Scikit-Learn'...  \n",
       "4  {'title': 'Data Visualization with Matplotlib'...  "
      ]
     },
     "execution_count": 51,
     "metadata": {},
     "output_type": "execute_result"
    }
   ],
   "source": [
    "df"
   ]
  },
  {
   "cell_type": "code",
   "execution_count": 57,
   "id": "78c014e6",
   "metadata": {},
   "outputs": [
    {
     "data": {
      "text/html": [
       "<div>\n",
       "<style scoped>\n",
       "    .dataframe tbody tr th:only-of-type {\n",
       "        vertical-align: middle;\n",
       "    }\n",
       "\n",
       "    .dataframe tbody tr th {\n",
       "        vertical-align: top;\n",
       "    }\n",
       "\n",
       "    .dataframe thead th {\n",
       "        text-align: right;\n",
       "    }\n",
       "</style>\n",
       "<table border=\"1\" class=\"dataframe\">\n",
       "  <thead>\n",
       "    <tr style=\"text-align: right;\">\n",
       "      <th></th>\n",
       "      <th>Document ID</th>\n",
       "      <th>Terms</th>\n",
       "    </tr>\n",
       "  </thead>\n",
       "  <tbody>\n",
       "    <tr>\n",
       "      <th>0</th>\n",
       "      <td>1</td>\n",
       "      <td>[Introduction, to, Python]</td>\n",
       "    </tr>\n",
       "    <tr>\n",
       "      <th>1</th>\n",
       "      <td>2</td>\n",
       "      <td>[Data, Analysis, with, Pandas]</td>\n",
       "    </tr>\n",
       "    <tr>\n",
       "      <th>2</th>\n",
       "      <td>3</td>\n",
       "      <td>[Web, Development, with, Flask]</td>\n",
       "    </tr>\n",
       "    <tr>\n",
       "      <th>3</th>\n",
       "      <td>4</td>\n",
       "      <td>[Machine, Learning, with, Scikit-Learn]</td>\n",
       "    </tr>\n",
       "    <tr>\n",
       "      <th>4</th>\n",
       "      <td>5</td>\n",
       "      <td>[Data, Visualization, with, Matplotlib]</td>\n",
       "    </tr>\n",
       "  </tbody>\n",
       "</table>\n",
       "</div>"
      ],
      "text/plain": [
       "   Document ID                                    Terms\n",
       "0            1               [Introduction, to, Python]\n",
       "1            2           [Data, Analysis, with, Pandas]\n",
       "2            3          [Web, Development, with, Flask]\n",
       "3            4  [Machine, Learning, with, Scikit-Learn]\n",
       "4            5  [Data, Visualization, with, Matplotlib]"
      ]
     },
     "execution_count": 57,
     "metadata": {},
     "output_type": "execute_result"
    }
   ],
   "source": [
    "# Tokenization function to extract terms from the JSON-like content\n",
    "def tokenize_content(content):\n",
    "    terms = []\n",
    "    \n",
    "    # Extract terms from various fields (title)\n",
    "    terms.extend(content.get(\"title\", \"\").split())\n",
    "#     terms.extend(content.get(\"author\", \"\").split())\n",
    "#     terms.extend(content.get(\"keywords\", []))\n",
    "    \n",
    "#     # Extract terms from sections' titles and content\n",
    "#     sections = content.get(\"sections\", [])\n",
    "#     for section in sections:\n",
    "#         terms.extend(section.get(\"title\", \"\").split())\n",
    "#         terms.extend(section.get(\"content\", \"\").split())\n",
    "    \n",
    "    return terms\n",
    "\n",
    "# Tokenize the content and create a new column \"Terms\"\n",
    "df[\"Terms\"] = df[\"diction\"].apply(tokenize_content)\n",
    "\n",
    "# Display the DataFrame with the \"Terms\" column\n",
    "df[[\"Document ID\", \"Terms\"]]"
   ]
  },
  {
   "cell_type": "code",
   "execution_count": 62,
   "id": "e78ba8c0",
   "metadata": {},
   "outputs": [
    {
     "data": {
      "text/html": [
       "<div>\n",
       "<style scoped>\n",
       "    .dataframe tbody tr th:only-of-type {\n",
       "        vertical-align: middle;\n",
       "    }\n",
       "\n",
       "    .dataframe tbody tr th {\n",
       "        vertical-align: top;\n",
       "    }\n",
       "\n",
       "    .dataframe thead th {\n",
       "        text-align: right;\n",
       "    }\n",
       "</style>\n",
       "<table border=\"1\" class=\"dataframe\">\n",
       "  <thead>\n",
       "    <tr style=\"text-align: right;\">\n",
       "      <th></th>\n",
       "      <th>Document ID</th>\n",
       "      <th>Terms_title</th>\n",
       "    </tr>\n",
       "  </thead>\n",
       "  <tbody>\n",
       "    <tr>\n",
       "      <th>0</th>\n",
       "      <td>1</td>\n",
       "      <td>[Introduction, to, Python]</td>\n",
       "    </tr>\n",
       "    <tr>\n",
       "      <th>1</th>\n",
       "      <td>2</td>\n",
       "      <td>[Data, Analysis, with, Pandas]</td>\n",
       "    </tr>\n",
       "    <tr>\n",
       "      <th>2</th>\n",
       "      <td>3</td>\n",
       "      <td>[Web, Development, with, Flask]</td>\n",
       "    </tr>\n",
       "    <tr>\n",
       "      <th>3</th>\n",
       "      <td>4</td>\n",
       "      <td>[Machine, Learning, with, Scikit-Learn]</td>\n",
       "    </tr>\n",
       "    <tr>\n",
       "      <th>4</th>\n",
       "      <td>5</td>\n",
       "      <td>[Data, Visualization, with, Matplotlib]</td>\n",
       "    </tr>\n",
       "  </tbody>\n",
       "</table>\n",
       "</div>"
      ],
      "text/plain": [
       "   Document ID                              Terms_title\n",
       "0            1               [Introduction, to, Python]\n",
       "1            2           [Data, Analysis, with, Pandas]\n",
       "2            3          [Web, Development, with, Flask]\n",
       "3            4  [Machine, Learning, with, Scikit-Learn]\n",
       "4            5  [Data, Visualization, with, Matplotlib]"
      ]
     },
     "execution_count": 62,
     "metadata": {},
     "output_type": "execute_result"
    }
   ],
   "source": [
    "# Tokenization function to extract terms from the JSON-like content\n",
    "def tokenize_content_title(content):\n",
    "    terms_title = []\n",
    "    \n",
    "    # Extract terms from various fields (title)\n",
    "    terms_title.extend(content.get(\"title\", \"\").split())\n",
    "    \n",
    "    return terms_title\n",
    "\n",
    "# Tokenize the content and create a new column \"Terms\"\n",
    "df[\"Terms_title\"] = df[\"diction\"].apply(tokenize_content)\n",
    "\n",
    "# Display the DataFrame with the \"Terms\" column\n",
    "df[[\"Document ID\", \"Terms_title\"]]"
   ]
  },
  {
   "cell_type": "code",
   "execution_count": 67,
   "id": "7919f7ea",
   "metadata": {},
   "outputs": [
    {
     "data": {
      "text/html": [
       "<div>\n",
       "<style scoped>\n",
       "    .dataframe tbody tr th:only-of-type {\n",
       "        vertical-align: middle;\n",
       "    }\n",
       "\n",
       "    .dataframe tbody tr th {\n",
       "        vertical-align: top;\n",
       "    }\n",
       "\n",
       "    .dataframe thead th {\n",
       "        text-align: right;\n",
       "    }\n",
       "</style>\n",
       "<table border=\"1\" class=\"dataframe\">\n",
       "  <thead>\n",
       "    <tr style=\"text-align: right;\">\n",
       "      <th></th>\n",
       "      <th>Document ID</th>\n",
       "      <th>Terms_keywords</th>\n",
       "    </tr>\n",
       "  </thead>\n",
       "  <tbody>\n",
       "    <tr>\n",
       "      <th>0</th>\n",
       "      <td>1</td>\n",
       "      <td>[Python, programming, beginner]</td>\n",
       "    </tr>\n",
       "    <tr>\n",
       "      <th>1</th>\n",
       "      <td>2</td>\n",
       "      <td>[Python, Pandas, data analysis]</td>\n",
       "    </tr>\n",
       "    <tr>\n",
       "      <th>2</th>\n",
       "      <td>3</td>\n",
       "      <td>[Python, Flask, web development]</td>\n",
       "    </tr>\n",
       "    <tr>\n",
       "      <th>3</th>\n",
       "      <td>4</td>\n",
       "      <td>[Python, machine learning, Scikit-Learn]</td>\n",
       "    </tr>\n",
       "    <tr>\n",
       "      <th>4</th>\n",
       "      <td>5</td>\n",
       "      <td>[Python, Matplotlib, data visualization]</td>\n",
       "    </tr>\n",
       "  </tbody>\n",
       "</table>\n",
       "</div>"
      ],
      "text/plain": [
       "   Document ID                            Terms_keywords\n",
       "0            1           [Python, programming, beginner]\n",
       "1            2           [Python, Pandas, data analysis]\n",
       "2            3          [Python, Flask, web development]\n",
       "3            4  [Python, machine learning, Scikit-Learn]\n",
       "4            5  [Python, Matplotlib, data visualization]"
      ]
     },
     "execution_count": 67,
     "metadata": {},
     "output_type": "execute_result"
    }
   ],
   "source": [
    "# Tokenization function to extract terms from the JSON-like content\n",
    "def tokenize_content_keyword(content):\n",
    "    terms_key = []\n",
    "    \n",
    "    # Extract terms from various fields (title)\n",
    "    terms_key.extend(content.get(\"keywords\", []))\n",
    "    \n",
    "    return terms_key\n",
    "\n",
    "# Tokenize the content and create a new column \"Terms\"\n",
    "df[\"Terms_keywords\"] = df[\"diction\"].apply(tokenize_content_keyword)\n",
    "\n",
    "# Display the DataFrame with the \"Terms\" column\n",
    "df[[\"Document ID\", \"Terms_keywords\"]]"
   ]
  },
  {
   "cell_type": "code",
   "execution_count": 68,
   "id": "5bf6643c",
   "metadata": {},
   "outputs": [
    {
     "data": {
      "text/html": [
       "<div>\n",
       "<style scoped>\n",
       "    .dataframe tbody tr th:only-of-type {\n",
       "        vertical-align: middle;\n",
       "    }\n",
       "\n",
       "    .dataframe tbody tr th {\n",
       "        vertical-align: top;\n",
       "    }\n",
       "\n",
       "    .dataframe thead th {\n",
       "        text-align: right;\n",
       "    }\n",
       "</style>\n",
       "<table border=\"1\" class=\"dataframe\">\n",
       "  <thead>\n",
       "    <tr style=\"text-align: right;\">\n",
       "      <th></th>\n",
       "      <th>Document ID</th>\n",
       "      <th>Content</th>\n",
       "      <th>Terms</th>\n",
       "      <th>JSON</th>\n",
       "      <th>diction</th>\n",
       "      <th>Terms_title</th>\n",
       "      <th>Terms_keywords</th>\n",
       "    </tr>\n",
       "  </thead>\n",
       "  <tbody>\n",
       "    <tr>\n",
       "      <th>0</th>\n",
       "      <td>1</td>\n",
       "      <td>{\\n   \"title\": \"Introduction to Python\",\\n   \"...</td>\n",
       "      <td>[Introduction, to, Python]</td>\n",
       "      <td>{'title': 'Introduction to Python', 'author': ...</td>\n",
       "      <td>{'title': 'Introduction to Python', 'author': ...</td>\n",
       "      <td>[Introduction, to, Python]</td>\n",
       "      <td>[Python, programming, beginner]</td>\n",
       "    </tr>\n",
       "    <tr>\n",
       "      <th>1</th>\n",
       "      <td>2</td>\n",
       "      <td>{\\n   \"title\": \"Data Analysis with Pandas\",\\n ...</td>\n",
       "      <td>[Data, Analysis, with, Pandas]</td>\n",
       "      <td>{'title': 'Data Analysis with Pandas', 'author...</td>\n",
       "      <td>{'title': 'Data Analysis with Pandas', 'author...</td>\n",
       "      <td>[Data, Analysis, with, Pandas]</td>\n",
       "      <td>[Python, Pandas, data analysis]</td>\n",
       "    </tr>\n",
       "    <tr>\n",
       "      <th>2</th>\n",
       "      <td>3</td>\n",
       "      <td>{\\n   \"title\": \"Web Development with Flask\",\\n...</td>\n",
       "      <td>[Web, Development, with, Flask]</td>\n",
       "      <td>{'title': 'Web Development with Flask', 'autho...</td>\n",
       "      <td>{'title': 'Web Development with Flask', 'autho...</td>\n",
       "      <td>[Web, Development, with, Flask]</td>\n",
       "      <td>[Python, Flask, web development]</td>\n",
       "    </tr>\n",
       "    <tr>\n",
       "      <th>3</th>\n",
       "      <td>4</td>\n",
       "      <td>{\\n   \"title\": \"Machine Learning with Scikit-L...</td>\n",
       "      <td>[Machine, Learning, with, Scikit-Learn]</td>\n",
       "      <td>{'title': 'Machine Learning with Scikit-Learn'...</td>\n",
       "      <td>{'title': 'Machine Learning with Scikit-Learn'...</td>\n",
       "      <td>[Machine, Learning, with, Scikit-Learn]</td>\n",
       "      <td>[Python, machine learning, Scikit-Learn]</td>\n",
       "    </tr>\n",
       "    <tr>\n",
       "      <th>4</th>\n",
       "      <td>5</td>\n",
       "      <td>{\\n   \"title\": \"Data Visualization with Matplo...</td>\n",
       "      <td>[Data, Visualization, with, Matplotlib]</td>\n",
       "      <td>{'title': 'Data Visualization with Matplotlib'...</td>\n",
       "      <td>{'title': 'Data Visualization with Matplotlib'...</td>\n",
       "      <td>[Data, Visualization, with, Matplotlib]</td>\n",
       "      <td>[Python, Matplotlib, data visualization]</td>\n",
       "    </tr>\n",
       "  </tbody>\n",
       "</table>\n",
       "</div>"
      ],
      "text/plain": [
       "   Document ID                                            Content  \\\n",
       "0            1  {\\n   \"title\": \"Introduction to Python\",\\n   \"...   \n",
       "1            2  {\\n   \"title\": \"Data Analysis with Pandas\",\\n ...   \n",
       "2            3  {\\n   \"title\": \"Web Development with Flask\",\\n...   \n",
       "3            4  {\\n   \"title\": \"Machine Learning with Scikit-L...   \n",
       "4            5  {\\n   \"title\": \"Data Visualization with Matplo...   \n",
       "\n",
       "                                     Terms  \\\n",
       "0               [Introduction, to, Python]   \n",
       "1           [Data, Analysis, with, Pandas]   \n",
       "2          [Web, Development, with, Flask]   \n",
       "3  [Machine, Learning, with, Scikit-Learn]   \n",
       "4  [Data, Visualization, with, Matplotlib]   \n",
       "\n",
       "                                                JSON  \\\n",
       "0  {'title': 'Introduction to Python', 'author': ...   \n",
       "1  {'title': 'Data Analysis with Pandas', 'author...   \n",
       "2  {'title': 'Web Development with Flask', 'autho...   \n",
       "3  {'title': 'Machine Learning with Scikit-Learn'...   \n",
       "4  {'title': 'Data Visualization with Matplotlib'...   \n",
       "\n",
       "                                             diction  \\\n",
       "0  {'title': 'Introduction to Python', 'author': ...   \n",
       "1  {'title': 'Data Analysis with Pandas', 'author...   \n",
       "2  {'title': 'Web Development with Flask', 'autho...   \n",
       "3  {'title': 'Machine Learning with Scikit-Learn'...   \n",
       "4  {'title': 'Data Visualization with Matplotlib'...   \n",
       "\n",
       "                               Terms_title  \\\n",
       "0               [Introduction, to, Python]   \n",
       "1           [Data, Analysis, with, Pandas]   \n",
       "2          [Web, Development, with, Flask]   \n",
       "3  [Machine, Learning, with, Scikit-Learn]   \n",
       "4  [Data, Visualization, with, Matplotlib]   \n",
       "\n",
       "                             Terms_keywords  \n",
       "0           [Python, programming, beginner]  \n",
       "1           [Python, Pandas, data analysis]  \n",
       "2          [Python, Flask, web development]  \n",
       "3  [Python, machine learning, Scikit-Learn]  \n",
       "4  [Python, Matplotlib, data visualization]  "
      ]
     },
     "execution_count": 68,
     "metadata": {},
     "output_type": "execute_result"
    }
   ],
   "source": [
    "df"
   ]
  },
  {
   "cell_type": "code",
   "execution_count": 69,
   "id": "9551ae57",
   "metadata": {},
   "outputs": [],
   "source": [
    "df['Concatenated'] = df.apply(lambda row: pd.concat([pd.Series(row['Terms_title']), pd.Series(row['Terms_keywords'])]).tolist(), axis=1)"
   ]
  },
  {
   "cell_type": "code",
   "execution_count": 70,
   "id": "ab73eddb",
   "metadata": {},
   "outputs": [
    {
     "data": {
      "text/html": [
       "<div>\n",
       "<style scoped>\n",
       "    .dataframe tbody tr th:only-of-type {\n",
       "        vertical-align: middle;\n",
       "    }\n",
       "\n",
       "    .dataframe tbody tr th {\n",
       "        vertical-align: top;\n",
       "    }\n",
       "\n",
       "    .dataframe thead th {\n",
       "        text-align: right;\n",
       "    }\n",
       "</style>\n",
       "<table border=\"1\" class=\"dataframe\">\n",
       "  <thead>\n",
       "    <tr style=\"text-align: right;\">\n",
       "      <th></th>\n",
       "      <th>Document ID</th>\n",
       "      <th>Content</th>\n",
       "      <th>Terms</th>\n",
       "      <th>JSON</th>\n",
       "      <th>diction</th>\n",
       "      <th>Terms_title</th>\n",
       "      <th>Terms_keywords</th>\n",
       "      <th>Concatenated</th>\n",
       "    </tr>\n",
       "  </thead>\n",
       "  <tbody>\n",
       "    <tr>\n",
       "      <th>0</th>\n",
       "      <td>1</td>\n",
       "      <td>{\\n   \"title\": \"Introduction to Python\",\\n   \"...</td>\n",
       "      <td>[Introduction, to, Python]</td>\n",
       "      <td>{'title': 'Introduction to Python', 'author': ...</td>\n",
       "      <td>{'title': 'Introduction to Python', 'author': ...</td>\n",
       "      <td>[Introduction, to, Python]</td>\n",
       "      <td>[Python, programming, beginner]</td>\n",
       "      <td>[Introduction, to, Python, Python, programming...</td>\n",
       "    </tr>\n",
       "    <tr>\n",
       "      <th>1</th>\n",
       "      <td>2</td>\n",
       "      <td>{\\n   \"title\": \"Data Analysis with Pandas\",\\n ...</td>\n",
       "      <td>[Data, Analysis, with, Pandas]</td>\n",
       "      <td>{'title': 'Data Analysis with Pandas', 'author...</td>\n",
       "      <td>{'title': 'Data Analysis with Pandas', 'author...</td>\n",
       "      <td>[Data, Analysis, with, Pandas]</td>\n",
       "      <td>[Python, Pandas, data analysis]</td>\n",
       "      <td>[Data, Analysis, with, Pandas, Python, Pandas,...</td>\n",
       "    </tr>\n",
       "    <tr>\n",
       "      <th>2</th>\n",
       "      <td>3</td>\n",
       "      <td>{\\n   \"title\": \"Web Development with Flask\",\\n...</td>\n",
       "      <td>[Web, Development, with, Flask]</td>\n",
       "      <td>{'title': 'Web Development with Flask', 'autho...</td>\n",
       "      <td>{'title': 'Web Development with Flask', 'autho...</td>\n",
       "      <td>[Web, Development, with, Flask]</td>\n",
       "      <td>[Python, Flask, web development]</td>\n",
       "      <td>[Web, Development, with, Flask, Python, Flask,...</td>\n",
       "    </tr>\n",
       "    <tr>\n",
       "      <th>3</th>\n",
       "      <td>4</td>\n",
       "      <td>{\\n   \"title\": \"Machine Learning with Scikit-L...</td>\n",
       "      <td>[Machine, Learning, with, Scikit-Learn]</td>\n",
       "      <td>{'title': 'Machine Learning with Scikit-Learn'...</td>\n",
       "      <td>{'title': 'Machine Learning with Scikit-Learn'...</td>\n",
       "      <td>[Machine, Learning, with, Scikit-Learn]</td>\n",
       "      <td>[Python, machine learning, Scikit-Learn]</td>\n",
       "      <td>[Machine, Learning, with, Scikit-Learn, Python...</td>\n",
       "    </tr>\n",
       "    <tr>\n",
       "      <th>4</th>\n",
       "      <td>5</td>\n",
       "      <td>{\\n   \"title\": \"Data Visualization with Matplo...</td>\n",
       "      <td>[Data, Visualization, with, Matplotlib]</td>\n",
       "      <td>{'title': 'Data Visualization with Matplotlib'...</td>\n",
       "      <td>{'title': 'Data Visualization with Matplotlib'...</td>\n",
       "      <td>[Data, Visualization, with, Matplotlib]</td>\n",
       "      <td>[Python, Matplotlib, data visualization]</td>\n",
       "      <td>[Data, Visualization, with, Matplotlib, Python...</td>\n",
       "    </tr>\n",
       "  </tbody>\n",
       "</table>\n",
       "</div>"
      ],
      "text/plain": [
       "   Document ID                                            Content  \\\n",
       "0            1  {\\n   \"title\": \"Introduction to Python\",\\n   \"...   \n",
       "1            2  {\\n   \"title\": \"Data Analysis with Pandas\",\\n ...   \n",
       "2            3  {\\n   \"title\": \"Web Development with Flask\",\\n...   \n",
       "3            4  {\\n   \"title\": \"Machine Learning with Scikit-L...   \n",
       "4            5  {\\n   \"title\": \"Data Visualization with Matplo...   \n",
       "\n",
       "                                     Terms  \\\n",
       "0               [Introduction, to, Python]   \n",
       "1           [Data, Analysis, with, Pandas]   \n",
       "2          [Web, Development, with, Flask]   \n",
       "3  [Machine, Learning, with, Scikit-Learn]   \n",
       "4  [Data, Visualization, with, Matplotlib]   \n",
       "\n",
       "                                                JSON  \\\n",
       "0  {'title': 'Introduction to Python', 'author': ...   \n",
       "1  {'title': 'Data Analysis with Pandas', 'author...   \n",
       "2  {'title': 'Web Development with Flask', 'autho...   \n",
       "3  {'title': 'Machine Learning with Scikit-Learn'...   \n",
       "4  {'title': 'Data Visualization with Matplotlib'...   \n",
       "\n",
       "                                             diction  \\\n",
       "0  {'title': 'Introduction to Python', 'author': ...   \n",
       "1  {'title': 'Data Analysis with Pandas', 'author...   \n",
       "2  {'title': 'Web Development with Flask', 'autho...   \n",
       "3  {'title': 'Machine Learning with Scikit-Learn'...   \n",
       "4  {'title': 'Data Visualization with Matplotlib'...   \n",
       "\n",
       "                               Terms_title  \\\n",
       "0               [Introduction, to, Python]   \n",
       "1           [Data, Analysis, with, Pandas]   \n",
       "2          [Web, Development, with, Flask]   \n",
       "3  [Machine, Learning, with, Scikit-Learn]   \n",
       "4  [Data, Visualization, with, Matplotlib]   \n",
       "\n",
       "                             Terms_keywords  \\\n",
       "0           [Python, programming, beginner]   \n",
       "1           [Python, Pandas, data analysis]   \n",
       "2          [Python, Flask, web development]   \n",
       "3  [Python, machine learning, Scikit-Learn]   \n",
       "4  [Python, Matplotlib, data visualization]   \n",
       "\n",
       "                                        Concatenated  \n",
       "0  [Introduction, to, Python, Python, programming...  \n",
       "1  [Data, Analysis, with, Pandas, Python, Pandas,...  \n",
       "2  [Web, Development, with, Flask, Python, Flask,...  \n",
       "3  [Machine, Learning, with, Scikit-Learn, Python...  \n",
       "4  [Data, Visualization, with, Matplotlib, Python...  "
      ]
     },
     "execution_count": 70,
     "metadata": {},
     "output_type": "execute_result"
    }
   ],
   "source": [
    "df"
   ]
  },
  {
   "cell_type": "code",
   "execution_count": null,
   "id": "a83adf27",
   "metadata": {},
   "outputs": [],
   "source": []
  }
 ],
 "metadata": {
  "kernelspec": {
   "display_name": "base",
   "language": "python",
   "name": "python3"
  },
  "language_info": {
   "codemirror_mode": {
    "name": "ipython",
    "version": 3
   },
   "file_extension": ".py",
   "mimetype": "text/x-python",
   "name": "python",
   "nbconvert_exporter": "python",
   "pygments_lexer": "ipython3",
   "version": "3.11.4"
  }
 },
 "nbformat": 4,
 "nbformat_minor": 5
}
